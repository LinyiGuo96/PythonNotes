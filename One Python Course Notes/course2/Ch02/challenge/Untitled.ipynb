{
 "cells": [
  {
   "cell_type": "code",
   "execution_count": 1,
   "metadata": {},
   "outputs": [],
   "source": [
    "import bz2\n",
    "import csv\n",
    "import json\n",
    "from collections import namedtuple\n",
    "from datetime import datetime\n",
    "\n",
    "Column = namedtuple(\"Column\", \"src dest convert\")\n",
    "\n",
    "def parse_timestamp(text):\n",
    "    return datetime.strptime(text, \"%Y-%m-%d %H:%M:%S\")\n",
    "\n",
    "columns = [\n",
    "    Column('VendorID', 'vendor_id', int),\n",
    "    Column('passenger_count', 'num_passengers', int),\n",
    "    Column('tip_amount', 'tip', float),\n",
    "    Column('total_amount', 'price', float),\n",
    "    Column('tpep_dropoff_datetime', 'dropoff_time', parse_timestamp),\n",
    "    Column('tpep_pickup_datetime', 'pickup_time', parse_timestamp),\n",
    "    Column('trip_distance', 'distance', float),\n",
    "]\n",
    "\n",
    "def iter_records(file_name):\n",
    "    with bz2.open(file_name, 'rt') as fp:\n",
    "        reader = csv.DictReader(fp)\n",
    "        for csv_record in reader:\n",
    "            record = {}\n",
    "            for col in columns:\n",
    "                value = csv_record[col.src]\n",
    "                record[col.dest] = col.convert(value)\n",
    "            yield record\n",
    "\n",
    "            \n",
    "def encode_time(obj):\n",
    "    if not isinstance(obj, datetime):\n",
    "        return obj\n",
    "    return obj.isoformat()\n",
    "\n",
    "\n",
    "with open('taxi.jl', 'w') as out:\n",
    "    for record in iter_records('taxi.csv.bz2'):\n",
    "        data = json.dumps(record, default=encode_time)\n",
    "        out.write(f'{data}\\n')"
   ]
  },
  {
   "cell_type": "code",
   "execution_count": null,
   "metadata": {},
   "outputs": [],
   "source": []
  }
 ],
 "metadata": {
  "kernelspec": {
   "display_name": "Python 3",
   "language": "python",
   "name": "python3"
  },
  "language_info": {
   "codemirror_mode": {
    "name": "ipython",
    "version": 3
   },
   "file_extension": ".py",
   "mimetype": "text/x-python",
   "name": "python",
   "nbconvert_exporter": "python",
   "pygments_lexer": "ipython3",
   "version": "3.8.3"
  }
 },
 "nbformat": 4,
 "nbformat_minor": 4
}
